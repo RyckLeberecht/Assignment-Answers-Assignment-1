{
 "cells": [
  {
   "cell_type": "code",
   "execution_count": 4,
   "id": "094d3578",
   "metadata": {},
   "outputs": [
    {
     "data": {
      "text/plain": [
       "false"
      ]
     },
     "execution_count": 4,
     "metadata": {},
     "output_type": "execute_result"
    }
   ],
   "source": [
    "require \"./SeedStock.rb\" # options are ’show’ and ’planting’\n",
    "require \"./Linkage.rb\" # options are ’chilinkaged’\n",
    "require \"./Database.rb\" #options are ’planting?’ and ’linkedgenes?’\n",
    "require 'csv'"
   ]
  },
  {
   "cell_type": "code",
   "execution_count": null,
   "id": "b0ec974e",
   "metadata": {},
   "outputs": [],
   "source": []
  },
  {
   "cell_type": "code",
   "execution_count": 5,
   "id": "eb300fb5",
   "metadata": {},
   "outputs": [
    {
     "name": "stdout",
     "output_type": "stream",
     "text": [
      "Warning: We have run out of Seed Stock A51, 2 are missing\n",
      "Warning: We have run out of Seed Stock B52\n",
      "The new Stock can be found in new_stock_file.tsv\n"
     ]
    }
   ],
   "source": [
    "p = Database.new(\"cross_data.tsv\", \"seed_stock_data.tsv\", \"gene_information.tsv\", \"new_stock_file.tsv\", 7)\n",
    "p.planting?"
   ]
  },
  {
   "cell_type": "code",
   "execution_count": 6,
   "id": "ed6ff9c8",
   "metadata": {},
   "outputs": [
    {
     "name": "stdout",
     "output_type": "stream",
     "text": [
      "Recording: ap1 is linked to ap2 with a chisquare score of: 114\n",
      "Recording: ap2 is linked to ap3 with a chisquare score of: 80\n",
      "Recording: ap3 is linked to ufo with a chisquare score of: 91\n",
      "Recording: ufo is linked to pi with a chisquare score of: 280\n",
      "Recording: pi is linked to ap1 with a chisquare score of: 76\n",
      "Final Report:\n",
      "ap1 is linked to ap2\n",
      "ap2 is linked to ap3\n",
      "ap3 is linked to ufo\n",
      "ufo is linked to pi\n",
      "pi is linked to ap1\n"
     ]
    }
   ],
   "source": [
    "p.linkedgenes?"
   ]
  }
 ],
 "metadata": {
  "kernelspec": {
   "display_name": "Ruby 3.0.0",
   "language": "ruby",
   "name": "ruby"
  },
  "language_info": {
   "file_extension": ".rb",
   "mimetype": "application/x-ruby",
   "name": "ruby",
   "version": "3.0.0"
  }
 },
 "nbformat": 4,
 "nbformat_minor": 5
}
